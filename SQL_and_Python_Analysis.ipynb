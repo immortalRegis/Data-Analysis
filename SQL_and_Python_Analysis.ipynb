{
  "nbformat": 4,
  "nbformat_minor": 0,
  "metadata": {
    "colab": {
      "provenance": [],
      "authorship_tag": "ABX9TyNY/aNNvBfHXh2AwRWYFUYi",
      "include_colab_link": true
    },
    "kernelspec": {
      "name": "python3",
      "display_name": "Python 3"
    },
    "language_info": {
      "name": "python"
    }
  },
  "cells": [
    {
      "cell_type": "markdown",
      "metadata": {
        "id": "view-in-github",
        "colab_type": "text"
      },
      "source": [
        "<a href=\"https://colab.research.google.com/github/immortalRegis/Data-Analysis/blob/main/SQL_and_Python_Analysis.ipynb\" target=\"_parent\"><img src=\"https://colab.research.google.com/assets/colab-badge.svg\" alt=\"Open In Colab\"/></a>"
      ]
    },
    {
      "cell_type": "markdown",
      "source": [
        "# We perform an analysis of a company's customer loyalty program using SQL and python."
      ],
      "metadata": {
        "id": "U3wFzia8utQz"
      }
    },
    {
      "cell_type": "code",
      "source": [
        "import pandas as pd\n",
        "from pandasql import sqldf\n"
      ],
      "metadata": {
        "id": "LrFqAA5xgERn"
      },
      "execution_count": 80,
      "outputs": []
    },
    {
      "cell_type": "code",
      "source": [
        "df = pd.read_excel(r'/content/customer file.xlsx')\n"
      ],
      "metadata": {
        "id": "Zk8QNv_vgNqP"
      },
      "execution_count": 83,
      "outputs": []
    },
    {
      "cell_type": "markdown",
      "source": [
        "We perform some exploratory analysis of the dataset"
      ],
      "metadata": {
        "id": "dIplIdM32b2Z"
      }
    },
    {
      "cell_type": "code",
      "source": [
        "df.columns"
      ],
      "metadata": {
        "colab": {
          "base_uri": "https://localhost:8080/"
        },
        "id": "7G3Hdaby2ZuD",
        "outputId": "5cc989f2-6ba8-4eaf-b166-2cd4b0af3a9f"
      },
      "execution_count": 84,
      "outputs": [
        {
          "output_type": "execute_result",
          "data": {
            "text/plain": [
              "Index(['Loyalty#', 'First Name', 'Last Name', 'Customer Name', 'Country',\n",
              "       'Province or State', 'City', 'Latitude', 'Longitude', 'Postal code',\n",
              "       'Gender', 'Education', 'Location Code', 'Income', 'Marital Status',\n",
              "       'Order Year', 'Quarter', 'MonthsAsMember', 'LoyaltyStatus',\n",
              "       'Product Line', 'Coupon Response', 'Count', 'Quantity Sold',\n",
              "       'Unit Sale Price', 'Unit Cost', 'Revenue', 'Customer Lifetime Value',\n",
              "       'Loyalty Count'],\n",
              "      dtype='object')"
            ]
          },
          "metadata": {},
          "execution_count": 84
        }
      ]
    },
    {
      "cell_type": "code",
      "source": [
        "df.isna().sum()"
      ],
      "metadata": {
        "colab": {
          "base_uri": "https://localhost:8080/"
        },
        "id": "efla9RXF2aDs",
        "outputId": "b471ecaa-0d2e-4e48-938c-59c69d091100"
      },
      "execution_count": 85,
      "outputs": [
        {
          "output_type": "execute_result",
          "data": {
            "text/plain": [
              "Loyalty#                   0\n",
              "First Name                 0\n",
              "Last Name                  0\n",
              "Customer Name              0\n",
              "Country                    0\n",
              "Province or State          0\n",
              "City                       0\n",
              "Latitude                   5\n",
              "Longitude                  5\n",
              "Postal code                0\n",
              "Gender                     0\n",
              "Education                  0\n",
              "Location Code              0\n",
              "Income                     0\n",
              "Marital Status             0\n",
              "Order Year                 0\n",
              "Quarter                    0\n",
              "MonthsAsMember             0\n",
              "LoyaltyStatus              0\n",
              "Product Line               0\n",
              "Coupon Response            0\n",
              "Count                      0\n",
              "Quantity Sold              0\n",
              "Unit Sale Price            0\n",
              "Unit Cost                  0\n",
              "Revenue                    0\n",
              "Customer Lifetime Value    0\n",
              "Loyalty Count              0\n",
              "dtype: int64"
            ]
          },
          "metadata": {},
          "execution_count": 85
        }
      ]
    },
    {
      "cell_type": "markdown",
      "source": [
        "We drop some columns that are not used in the analysis."
      ],
      "metadata": {
        "id": "NqW5KwcI2yQ5"
      }
    },
    {
      "cell_type": "code",
      "source": [
        "df.drop(['Longitude', 'Latitude', 'First Name', 'Last Name'], axis = 1)"
      ],
      "metadata": {
        "colab": {
          "base_uri": "https://localhost:8080/",
          "height": 782
        },
        "id": "vjOgAYZR2sfY",
        "outputId": "705ac519-2502-47f5-ae58-11f7bfbd22c2"
      },
      "execution_count": 86,
      "outputs": [
        {
          "output_type": "execute_result",
          "data": {
            "text/plain": [
              "       Loyalty#      Customer Name         Country Province or State  \\\n",
              "0        837810      Abigail Goris          Canada  British Columbia   \n",
              "1        707928         Ada Glaude         Germany            Bremen   \n",
              "2        901442        Ada Staback          Canada          Manitoba   \n",
              "3        237303         Adam Boner          Canada           Ontario   \n",
              "4        348835      Adam Dunnegan          Canada          Manitoba   \n",
              "...         ...                ...             ...               ...   \n",
              "68348    434631        Yaeko Thorp  United Kingdom           Reading   \n",
              "68349    727126         Yer Noyola         Germany            Berlin   \n",
              "68350    355048  Yolande Boudrieau  United Kingdom    Greater London   \n",
              "68351    936010       Yulanda Lile          Canada           Ontario   \n",
              "68352    273299      Zella Madison   United States          Colorado   \n",
              "\n",
              "                   City Postal code  Gender             Education  \\\n",
              "0          Dawson Creek     U5I 4F1    male              Bachelor   \n",
              "1                Bremen       28759    male  High School or Below   \n",
              "2              Winnipeg     R2C 0M5  female              Bachelor   \n",
              "3               Sudbury     M5V 1G5  female              Bachelor   \n",
              "4              Winnipeg     R2C 0M5    male                Master   \n",
              "...                 ...         ...     ...                   ...   \n",
              "68348       Ilkley Road     RG4 7BD  female               College   \n",
              "68349            Berlin       10711    male               College   \n",
              "68350            London      E7 8EZ    male              Bachelor   \n",
              "68351           Toronto     P5S 6R4  female              Bachelor   \n",
              "68352  Colorado Springs       80925  female               College   \n",
              "\n",
              "      Location Code  Income  ... LoyaltyStatus               Product Line  \\\n",
              "0             Rural   42142  ...        Bronze  Computers and Home Office   \n",
              "1             Rural   20978  ...        Bronze  Computers and Home Office   \n",
              "2             Rural   71391  ...        Bronze  Computers and Home Office   \n",
              "3             Urban   79674  ...        Bronze  Computers and Home Office   \n",
              "4             Urban   13663  ...        Bronze  Computers and Home Office   \n",
              "...             ...     ...  ...           ...                        ...   \n",
              "68348         Rural       0  ...          Gold                Photography   \n",
              "68349      Suburban       0  ...         Elite                Photography   \n",
              "68350      Suburban   48675  ...         Elite                Photography   \n",
              "68351         Urban   51425  ...         Elite                Photography   \n",
              "68352      Suburban       0  ...      Platinum                Photography   \n",
              "\n",
              "      Coupon Response  Count Quantity Sold Unit Sale Price Unit Cost  Revenue  \\\n",
              "0            Coupon 6      1             3            1182   1004.70     3546   \n",
              "1            Coupon 1      1             1             434    368.90      434   \n",
              "2            Coupon 1      1             2             201    170.85      402   \n",
              "3            Coupon 4      1             3             757    643.45     2271   \n",
              "4            Coupon 1      1             2             161    136.85      322   \n",
              "...               ...    ...           ...             ...       ...      ...   \n",
              "68348        Coupon 1      1             2             372    316.20      744   \n",
              "68349        Coupon 2      1             2             119    101.15      238   \n",
              "68350        Coupon 1      1             2             374    317.90      748   \n",
              "68351        Coupon 1      1             4             412    350.20     1648   \n",
              "68352        Coupon 2      1             8             421    357.85     3368   \n",
              "\n",
              "       Customer Lifetime Value  Loyalty Count  \n",
              "0                      8842.65              1  \n",
              "1                      3508.57              1  \n",
              "2                      8044.87              1  \n",
              "3                      8660.84              1  \n",
              "4                     25464.82              1  \n",
              "...                        ...            ...  \n",
              "68348                  3223.22              1  \n",
              "68349                  2161.69              1  \n",
              "68350                  2798.83              1  \n",
              "68351                  9378.90              1  \n",
              "68352                  6325.03              1  \n",
              "\n",
              "[68353 rows x 24 columns]"
            ],
            "text/html": [
              "\n",
              "  <div id=\"df-139f224a-606d-42fe-b2fa-ea21156a6ca2\">\n",
              "    <div class=\"colab-df-container\">\n",
              "      <div>\n",
              "<style scoped>\n",
              "    .dataframe tbody tr th:only-of-type {\n",
              "        vertical-align: middle;\n",
              "    }\n",
              "\n",
              "    .dataframe tbody tr th {\n",
              "        vertical-align: top;\n",
              "    }\n",
              "\n",
              "    .dataframe thead th {\n",
              "        text-align: right;\n",
              "    }\n",
              "</style>\n",
              "<table border=\"1\" class=\"dataframe\">\n",
              "  <thead>\n",
              "    <tr style=\"text-align: right;\">\n",
              "      <th></th>\n",
              "      <th>Loyalty#</th>\n",
              "      <th>Customer Name</th>\n",
              "      <th>Country</th>\n",
              "      <th>Province or State</th>\n",
              "      <th>City</th>\n",
              "      <th>Postal code</th>\n",
              "      <th>Gender</th>\n",
              "      <th>Education</th>\n",
              "      <th>Location Code</th>\n",
              "      <th>Income</th>\n",
              "      <th>...</th>\n",
              "      <th>LoyaltyStatus</th>\n",
              "      <th>Product Line</th>\n",
              "      <th>Coupon Response</th>\n",
              "      <th>Count</th>\n",
              "      <th>Quantity Sold</th>\n",
              "      <th>Unit Sale Price</th>\n",
              "      <th>Unit Cost</th>\n",
              "      <th>Revenue</th>\n",
              "      <th>Customer Lifetime Value</th>\n",
              "      <th>Loyalty Count</th>\n",
              "    </tr>\n",
              "  </thead>\n",
              "  <tbody>\n",
              "    <tr>\n",
              "      <th>0</th>\n",
              "      <td>837810</td>\n",
              "      <td>Abigail Goris</td>\n",
              "      <td>Canada</td>\n",
              "      <td>British Columbia</td>\n",
              "      <td>Dawson Creek</td>\n",
              "      <td>U5I 4F1</td>\n",
              "      <td>male</td>\n",
              "      <td>Bachelor</td>\n",
              "      <td>Rural</td>\n",
              "      <td>42142</td>\n",
              "      <td>...</td>\n",
              "      <td>Bronze</td>\n",
              "      <td>Computers and Home Office</td>\n",
              "      <td>Coupon 6</td>\n",
              "      <td>1</td>\n",
              "      <td>3</td>\n",
              "      <td>1182</td>\n",
              "      <td>1004.70</td>\n",
              "      <td>3546</td>\n",
              "      <td>8842.65</td>\n",
              "      <td>1</td>\n",
              "    </tr>\n",
              "    <tr>\n",
              "      <th>1</th>\n",
              "      <td>707928</td>\n",
              "      <td>Ada Glaude</td>\n",
              "      <td>Germany</td>\n",
              "      <td>Bremen</td>\n",
              "      <td>Bremen</td>\n",
              "      <td>28759</td>\n",
              "      <td>male</td>\n",
              "      <td>High School or Below</td>\n",
              "      <td>Rural</td>\n",
              "      <td>20978</td>\n",
              "      <td>...</td>\n",
              "      <td>Bronze</td>\n",
              "      <td>Computers and Home Office</td>\n",
              "      <td>Coupon 1</td>\n",
              "      <td>1</td>\n",
              "      <td>1</td>\n",
              "      <td>434</td>\n",
              "      <td>368.90</td>\n",
              "      <td>434</td>\n",
              "      <td>3508.57</td>\n",
              "      <td>1</td>\n",
              "    </tr>\n",
              "    <tr>\n",
              "      <th>2</th>\n",
              "      <td>901442</td>\n",
              "      <td>Ada Staback</td>\n",
              "      <td>Canada</td>\n",
              "      <td>Manitoba</td>\n",
              "      <td>Winnipeg</td>\n",
              "      <td>R2C 0M5</td>\n",
              "      <td>female</td>\n",
              "      <td>Bachelor</td>\n",
              "      <td>Rural</td>\n",
              "      <td>71391</td>\n",
              "      <td>...</td>\n",
              "      <td>Bronze</td>\n",
              "      <td>Computers and Home Office</td>\n",
              "      <td>Coupon 1</td>\n",
              "      <td>1</td>\n",
              "      <td>2</td>\n",
              "      <td>201</td>\n",
              "      <td>170.85</td>\n",
              "      <td>402</td>\n",
              "      <td>8044.87</td>\n",
              "      <td>1</td>\n",
              "    </tr>\n",
              "    <tr>\n",
              "      <th>3</th>\n",
              "      <td>237303</td>\n",
              "      <td>Adam Boner</td>\n",
              "      <td>Canada</td>\n",
              "      <td>Ontario</td>\n",
              "      <td>Sudbury</td>\n",
              "      <td>M5V 1G5</td>\n",
              "      <td>female</td>\n",
              "      <td>Bachelor</td>\n",
              "      <td>Urban</td>\n",
              "      <td>79674</td>\n",
              "      <td>...</td>\n",
              "      <td>Bronze</td>\n",
              "      <td>Computers and Home Office</td>\n",
              "      <td>Coupon 4</td>\n",
              "      <td>1</td>\n",
              "      <td>3</td>\n",
              "      <td>757</td>\n",
              "      <td>643.45</td>\n",
              "      <td>2271</td>\n",
              "      <td>8660.84</td>\n",
              "      <td>1</td>\n",
              "    </tr>\n",
              "    <tr>\n",
              "      <th>4</th>\n",
              "      <td>348835</td>\n",
              "      <td>Adam Dunnegan</td>\n",
              "      <td>Canada</td>\n",
              "      <td>Manitoba</td>\n",
              "      <td>Winnipeg</td>\n",
              "      <td>R2C 0M5</td>\n",
              "      <td>male</td>\n",
              "      <td>Master</td>\n",
              "      <td>Urban</td>\n",
              "      <td>13663</td>\n",
              "      <td>...</td>\n",
              "      <td>Bronze</td>\n",
              "      <td>Computers and Home Office</td>\n",
              "      <td>Coupon 1</td>\n",
              "      <td>1</td>\n",
              "      <td>2</td>\n",
              "      <td>161</td>\n",
              "      <td>136.85</td>\n",
              "      <td>322</td>\n",
              "      <td>25464.82</td>\n",
              "      <td>1</td>\n",
              "    </tr>\n",
              "    <tr>\n",
              "      <th>...</th>\n",
              "      <td>...</td>\n",
              "      <td>...</td>\n",
              "      <td>...</td>\n",
              "      <td>...</td>\n",
              "      <td>...</td>\n",
              "      <td>...</td>\n",
              "      <td>...</td>\n",
              "      <td>...</td>\n",
              "      <td>...</td>\n",
              "      <td>...</td>\n",
              "      <td>...</td>\n",
              "      <td>...</td>\n",
              "      <td>...</td>\n",
              "      <td>...</td>\n",
              "      <td>...</td>\n",
              "      <td>...</td>\n",
              "      <td>...</td>\n",
              "      <td>...</td>\n",
              "      <td>...</td>\n",
              "      <td>...</td>\n",
              "      <td>...</td>\n",
              "    </tr>\n",
              "    <tr>\n",
              "      <th>68348</th>\n",
              "      <td>434631</td>\n",
              "      <td>Yaeko Thorp</td>\n",
              "      <td>United Kingdom</td>\n",
              "      <td>Reading</td>\n",
              "      <td>Ilkley Road</td>\n",
              "      <td>RG4 7BD</td>\n",
              "      <td>female</td>\n",
              "      <td>College</td>\n",
              "      <td>Rural</td>\n",
              "      <td>0</td>\n",
              "      <td>...</td>\n",
              "      <td>Gold</td>\n",
              "      <td>Photography</td>\n",
              "      <td>Coupon 1</td>\n",
              "      <td>1</td>\n",
              "      <td>2</td>\n",
              "      <td>372</td>\n",
              "      <td>316.20</td>\n",
              "      <td>744</td>\n",
              "      <td>3223.22</td>\n",
              "      <td>1</td>\n",
              "    </tr>\n",
              "    <tr>\n",
              "      <th>68349</th>\n",
              "      <td>727126</td>\n",
              "      <td>Yer Noyola</td>\n",
              "      <td>Germany</td>\n",
              "      <td>Berlin</td>\n",
              "      <td>Berlin</td>\n",
              "      <td>10711</td>\n",
              "      <td>male</td>\n",
              "      <td>College</td>\n",
              "      <td>Suburban</td>\n",
              "      <td>0</td>\n",
              "      <td>...</td>\n",
              "      <td>Elite</td>\n",
              "      <td>Photography</td>\n",
              "      <td>Coupon 2</td>\n",
              "      <td>1</td>\n",
              "      <td>2</td>\n",
              "      <td>119</td>\n",
              "      <td>101.15</td>\n",
              "      <td>238</td>\n",
              "      <td>2161.69</td>\n",
              "      <td>1</td>\n",
              "    </tr>\n",
              "    <tr>\n",
              "      <th>68350</th>\n",
              "      <td>355048</td>\n",
              "      <td>Yolande Boudrieau</td>\n",
              "      <td>United Kingdom</td>\n",
              "      <td>Greater London</td>\n",
              "      <td>London</td>\n",
              "      <td>E7 8EZ</td>\n",
              "      <td>male</td>\n",
              "      <td>Bachelor</td>\n",
              "      <td>Suburban</td>\n",
              "      <td>48675</td>\n",
              "      <td>...</td>\n",
              "      <td>Elite</td>\n",
              "      <td>Photography</td>\n",
              "      <td>Coupon 1</td>\n",
              "      <td>1</td>\n",
              "      <td>2</td>\n",
              "      <td>374</td>\n",
              "      <td>317.90</td>\n",
              "      <td>748</td>\n",
              "      <td>2798.83</td>\n",
              "      <td>1</td>\n",
              "    </tr>\n",
              "    <tr>\n",
              "      <th>68351</th>\n",
              "      <td>936010</td>\n",
              "      <td>Yulanda Lile</td>\n",
              "      <td>Canada</td>\n",
              "      <td>Ontario</td>\n",
              "      <td>Toronto</td>\n",
              "      <td>P5S 6R4</td>\n",
              "      <td>female</td>\n",
              "      <td>Bachelor</td>\n",
              "      <td>Urban</td>\n",
              "      <td>51425</td>\n",
              "      <td>...</td>\n",
              "      <td>Elite</td>\n",
              "      <td>Photography</td>\n",
              "      <td>Coupon 1</td>\n",
              "      <td>1</td>\n",
              "      <td>4</td>\n",
              "      <td>412</td>\n",
              "      <td>350.20</td>\n",
              "      <td>1648</td>\n",
              "      <td>9378.90</td>\n",
              "      <td>1</td>\n",
              "    </tr>\n",
              "    <tr>\n",
              "      <th>68352</th>\n",
              "      <td>273299</td>\n",
              "      <td>Zella Madison</td>\n",
              "      <td>United States</td>\n",
              "      <td>Colorado</td>\n",
              "      <td>Colorado Springs</td>\n",
              "      <td>80925</td>\n",
              "      <td>female</td>\n",
              "      <td>College</td>\n",
              "      <td>Suburban</td>\n",
              "      <td>0</td>\n",
              "      <td>...</td>\n",
              "      <td>Platinum</td>\n",
              "      <td>Photography</td>\n",
              "      <td>Coupon 2</td>\n",
              "      <td>1</td>\n",
              "      <td>8</td>\n",
              "      <td>421</td>\n",
              "      <td>357.85</td>\n",
              "      <td>3368</td>\n",
              "      <td>6325.03</td>\n",
              "      <td>1</td>\n",
              "    </tr>\n",
              "  </tbody>\n",
              "</table>\n",
              "<p>68353 rows × 24 columns</p>\n",
              "</div>\n",
              "      <button class=\"colab-df-convert\" onclick=\"convertToInteractive('df-139f224a-606d-42fe-b2fa-ea21156a6ca2')\"\n",
              "              title=\"Convert this dataframe to an interactive table.\"\n",
              "              style=\"display:none;\">\n",
              "        \n",
              "  <svg xmlns=\"http://www.w3.org/2000/svg\" height=\"24px\"viewBox=\"0 0 24 24\"\n",
              "       width=\"24px\">\n",
              "    <path d=\"M0 0h24v24H0V0z\" fill=\"none\"/>\n",
              "    <path d=\"M18.56 5.44l.94 2.06.94-2.06 2.06-.94-2.06-.94-.94-2.06-.94 2.06-2.06.94zm-11 1L8.5 8.5l.94-2.06 2.06-.94-2.06-.94L8.5 2.5l-.94 2.06-2.06.94zm10 10l.94 2.06.94-2.06 2.06-.94-2.06-.94-.94-2.06-.94 2.06-2.06.94z\"/><path d=\"M17.41 7.96l-1.37-1.37c-.4-.4-.92-.59-1.43-.59-.52 0-1.04.2-1.43.59L10.3 9.45l-7.72 7.72c-.78.78-.78 2.05 0 2.83L4 21.41c.39.39.9.59 1.41.59.51 0 1.02-.2 1.41-.59l7.78-7.78 2.81-2.81c.8-.78.8-2.07 0-2.86zM5.41 20L4 18.59l7.72-7.72 1.47 1.35L5.41 20z\"/>\n",
              "  </svg>\n",
              "      </button>\n",
              "      \n",
              "  <style>\n",
              "    .colab-df-container {\n",
              "      display:flex;\n",
              "      flex-wrap:wrap;\n",
              "      gap: 12px;\n",
              "    }\n",
              "\n",
              "    .colab-df-convert {\n",
              "      background-color: #E8F0FE;\n",
              "      border: none;\n",
              "      border-radius: 50%;\n",
              "      cursor: pointer;\n",
              "      display: none;\n",
              "      fill: #1967D2;\n",
              "      height: 32px;\n",
              "      padding: 0 0 0 0;\n",
              "      width: 32px;\n",
              "    }\n",
              "\n",
              "    .colab-df-convert:hover {\n",
              "      background-color: #E2EBFA;\n",
              "      box-shadow: 0px 1px 2px rgba(60, 64, 67, 0.3), 0px 1px 3px 1px rgba(60, 64, 67, 0.15);\n",
              "      fill: #174EA6;\n",
              "    }\n",
              "\n",
              "    [theme=dark] .colab-df-convert {\n",
              "      background-color: #3B4455;\n",
              "      fill: #D2E3FC;\n",
              "    }\n",
              "\n",
              "    [theme=dark] .colab-df-convert:hover {\n",
              "      background-color: #434B5C;\n",
              "      box-shadow: 0px 1px 3px 1px rgba(0, 0, 0, 0.15);\n",
              "      filter: drop-shadow(0px 1px 2px rgba(0, 0, 0, 0.3));\n",
              "      fill: #FFFFFF;\n",
              "    }\n",
              "  </style>\n",
              "\n",
              "      <script>\n",
              "        const buttonEl =\n",
              "          document.querySelector('#df-139f224a-606d-42fe-b2fa-ea21156a6ca2 button.colab-df-convert');\n",
              "        buttonEl.style.display =\n",
              "          google.colab.kernel.accessAllowed ? 'block' : 'none';\n",
              "\n",
              "        async function convertToInteractive(key) {\n",
              "          const element = document.querySelector('#df-139f224a-606d-42fe-b2fa-ea21156a6ca2');\n",
              "          const dataTable =\n",
              "            await google.colab.kernel.invokeFunction('convertToInteractive',\n",
              "                                                     [key], {});\n",
              "          if (!dataTable) return;\n",
              "\n",
              "          const docLinkHtml = 'Like what you see? Visit the ' +\n",
              "            '<a target=\"_blank\" href=https://colab.research.google.com/notebooks/data_table.ipynb>data table notebook</a>'\n",
              "            + ' to learn more about interactive tables.';\n",
              "          element.innerHTML = '';\n",
              "          dataTable['output_type'] = 'display_data';\n",
              "          await google.colab.output.renderOutput(dataTable, element);\n",
              "          const docLink = document.createElement('div');\n",
              "          docLink.innerHTML = docLinkHtml;\n",
              "          element.appendChild(docLink);\n",
              "        }\n",
              "      </script>\n",
              "    </div>\n",
              "  </div>\n",
              "  "
            ]
          },
          "metadata": {},
          "execution_count": 86
        }
      ]
    },
    {
      "cell_type": "markdown",
      "source": [
        "We create a helper function to select the variable type to be passed into the sqldf function"
      ],
      "metadata": {
        "id": "ZG82MAOZrM8S"
      }
    },
    {
      "cell_type": "code",
      "source": [
        "def sqldf_helper(q: str):\n",
        "  return sqldf(q, globals())"
      ],
      "metadata": {
        "id": "jutOfSsZme2p"
      },
      "execution_count": 78,
      "outputs": []
    },
    {
      "cell_type": "code",
      "source": [
        "q = \"SELECT * FROM df LIMIT 5;\"\n",
        "print(sqldf_helper(q))"
      ],
      "metadata": {
        "colab": {
          "base_uri": "https://localhost:8080/"
        },
        "id": "85ElFTn2gdUT",
        "outputId": "f6711018-59fe-464f-cfbc-8560576af618"
      },
      "execution_count": 79,
      "outputs": [
        {
          "output_type": "stream",
          "name": "stdout",
          "text": [
            "   Loyalty# First Name Last Name  Customer Name  Country Province or State  \\\n",
            "0    837810    Abigail     Goris  Abigail Goris   Canada  British Columbia   \n",
            "1    707928        Ada    Glaude     Ada Glaude  Germany            Bremen   \n",
            "2    901442        Ada   Staback    Ada Staback   Canada          Manitoba   \n",
            "3    237303       Adam     Boner     Adam Boner   Canada           Ontario   \n",
            "4    348835       Adam  Dunnegan  Adam Dunnegan   Canada          Manitoba   \n",
            "\n",
            "           City   Latitude   Longitude Postal code  ... LoyaltyStatus  \\\n",
            "0  Dawson Creek  55.759627 -120.237662     U5I 4F1  ...        Bronze   \n",
            "1        Bremen  53.079296    8.801694       28759  ...        Bronze   \n",
            "2      Winnipeg  49.895136  -97.138374     R2C 0M5  ...        Bronze   \n",
            "3       Sudbury  46.522099  -80.953035     M5V 1G5  ...        Bronze   \n",
            "4      Winnipeg  49.895136  -97.138374     R2C 0M5  ...        Bronze   \n",
            "\n",
            "                Product Line Coupon Response  Count Quantity Sold  \\\n",
            "0  Computers and Home Office        Coupon 6      1             3   \n",
            "1  Computers and Home Office        Coupon 1      1             1   \n",
            "2  Computers and Home Office        Coupon 1      1             2   \n",
            "3  Computers and Home Office        Coupon 4      1             3   \n",
            "4  Computers and Home Office        Coupon 1      1             2   \n",
            "\n",
            "   Unit Sale Price Unit Cost  Revenue Customer Lifetime Value Loyalty Count  \n",
            "0             1182   1004.70     3546                 8842.65             1  \n",
            "1              434    368.90      434                 3508.57             1  \n",
            "2              201    170.85      402                 8044.87             1  \n",
            "3              757    643.45     2271                 8660.84             1  \n",
            "4              161    136.85      322                25464.82             1  \n",
            "\n",
            "[5 rows x 28 columns]\n"
          ]
        }
      ]
    },
    {
      "cell_type": "markdown",
      "source": [
        "Run a query to see the distribution of the recipients by country."
      ],
      "metadata": {
        "id": "2JkPaDV34_-o"
      }
    },
    {
      "cell_type": "code",
      "source": [
        "q2 = \"\"\"\n",
        "  SELECT country, count(*) as \"total number\" FROM df\n",
        "  GROUP BY country\n",
        "  ORDER BY \"total number\" DESC\n",
        "\"\"\""
      ],
      "metadata": {
        "id": "t1s5Gmhjh1K-"
      },
      "execution_count": 87,
      "outputs": []
    },
    {
      "cell_type": "code",
      "source": [
        "print(sqldf_helper(q2))"
      ],
      "metadata": {
        "colab": {
          "base_uri": "https://localhost:8080/"
        },
        "id": "cmxeSJ7cri1t",
        "outputId": "a7769661-fca3-4c9d-f378-37adaece846e"
      },
      "execution_count": 89,
      "outputs": [
        {
          "output_type": "stream",
          "name": "stdout",
          "text": [
            "          Country  total number\n",
            "0   United States         17879\n",
            "1          Canada         17602\n",
            "2  United Kingdom         16896\n",
            "3         Germany         15976\n"
          ]
        }
      ]
    },
    {
      "cell_type": "markdown",
      "source": [
        "We plot the distribution information in a bar chart"
      ],
      "metadata": {
        "id": "mPFoB6su5QCZ"
      }
    },
    {
      "cell_type": "code",
      "source": [
        "df['Country'].value_counts().plot(kind = 'barh', title = 'Customer Distribution by Country')"
      ],
      "metadata": {
        "colab": {
          "base_uri": "https://localhost:8080/",
          "height": 469
        },
        "id": "O3erMXnjvbKa",
        "outputId": "d328a567-99bf-4473-9f88-58fdb4302a09"
      },
      "execution_count": 94,
      "outputs": [
        {
          "output_type": "execute_result",
          "data": {
            "text/plain": [
              "<Axes: title={'center': 'Customer Distribution by Country'}>"
            ]
          },
          "metadata": {},
          "execution_count": 94
        },
        {
          "output_type": "display_data",
          "data": {
            "text/plain": [
              "<Figure size 640x480 with 1 Axes>"
            ],
            "image/png": "[encoded data removed]"
          },
          "metadata": {}
        }
      ]
    },
    {
      "cell_type": "code",
      "source": [
        "q3 = \"\"\" \n",
        "  SELECT LoyaltyStatus, COUNT(*) AS Total, ROUND(AVG(income), 2) AS \"Average Income per Group (USD$)\"FROM df\n",
        "  GROUP BY LoyaltyStatus\n",
        "  ORDER BY \"Average Income per Group (USD$)\";\n",
        "\"\"\"\n",
        "print(sqldf_helper(q3))"
      ],
      "metadata": {
        "colab": {
          "base_uri": "https://localhost:8080/"
        },
        "id": "g8ydJTKowmlk",
        "outputId": "8bf01ad5-912a-4f59-a27f-1e46c9ca36e5"
      },
      "execution_count": 98,
      "outputs": [
        {
          "output_type": "stream",
          "name": "stdout",
          "text": [
            "  LoyaltyStatus  Total  Average Income per Group (USD$)\n",
            "0      Platinum  11683                         37305.53\n",
            "1          Gold  11578                         37542.17\n",
            "2        Bronze  11618                         37585.85\n",
            "3         Elite  11185                         37679.64\n",
            "4           VIP  10936                         37923.55\n",
            "5        Silver  11353                         38038.18\n"
          ]
        }
      ]
    },
    {
      "cell_type": "code",
      "source": [],
      "metadata": {
        "id": "AOs0GHhFww22"
      },
      "execution_count": 112,
      "outputs": []
    },
    {
      "cell_type": "code",
      "source": [],
      "metadata": {
        "id": "5TB7FR6WxiFx"
      },
      "execution_count": 112,
      "outputs": []
    },
    {
      "cell_type": "code",
      "source": [],
      "metadata": {
        "id": "iE3qpoMfF-yy"
      },
      "execution_count": null,
      "outputs": []
    }
  ]
}