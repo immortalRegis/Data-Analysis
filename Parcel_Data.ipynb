{
  "nbformat": 4,
  "nbformat_minor": 0,
  "metadata": {
    "colab": {
      "provenance": [],
      "authorship_tag": "ABX9TyN85vVlW9K5XPfn/OA+sDio",
      "include_colab_link": true
    },
    "kernelspec": {
      "name": "python3",
      "display_name": "Python 3"
    },
    "language_info": {
      "name": "python"
    }
  },
  "cells": [
    {
      "cell_type": "markdown",
      "metadata": {
        "id": "view-in-github",
        "colab_type": "text"
      },
      "source": [
        "<a href=\"https://colab.research.google.com/github/immortalRegis/Data-Analysis/blob/main/Parcel_Data.ipynb\" target=\"_parent\"><img src=\"https://colab.research.google.com/assets/colab-badge.svg\" alt=\"Open In Colab\"/></a>"
      ]
    },
    {
      "cell_type": "markdown",
      "source": [
        "# Introduction"
      ],
      "metadata": {
        "id": "X9QKf6gBqGTz"
      }
    },
    {
      "cell_type": "markdown",
      "source": [
        " The dataset used in this analysis contains the parcel and route details for over 5000 parcels handled by a fictional last-mile delivery services company. Analysis will be run using python to discover some interesting trends in the dataset. "
      ],
      "metadata": {
        "id": "78OXKHbiqETe"
      }
    },
    {
      "cell_type": "code",
      "execution_count": 1,
      "metadata": {
        "id": "8DzEIqFFkvbx"
      },
      "outputs": [],
      "source": [
        "import pandas as pd\n",
        "import numpy as np"
      ]
    },
    {
      "cell_type": "code",
      "source": [
        "data = pd.read_csv('/content/pmd.csv')"
      ],
      "metadata": {
        "id": "923sWlHroO0R"
      },
      "execution_count": 4,
      "outputs": []
    },
    {
      "cell_type": "markdown",
      "source": [
        "# Store the contents of the uploaded csv file in a dataframe called data"
      ],
      "metadata": {
        "id": "J_X9CrtVoj3f"
      }
    },
    {
      "cell_type": "code",
      "source": [
        "data.head()"
      ],
      "metadata": {
        "colab": {
          "base_uri": "https://localhost:8080/",
          "height": 374
        },
        "id": "LazIHRC9oUeI",
        "outputId": "80471dd2-73b5-4ced-dea4-4e608e34d159"
      },
      "execution_count": 5,
      "outputs": [
        {
          "output_type": "execute_result",
          "data": {
            "text/plain": [
              "     TrackingNum       Vendor Name District       Route   AssignedCourier  \\\n",
              "0  MKS6271215345   Venus Logistics      M08   NIA20-L3M  Katniss Everdeen   \n",
              "1  NLA2139524342  Jupiter Shipping      M05  COR171-K6A        Don Draper   \n",
              "2  NLA2139451369  Jupiter Shipping      M05  COR171-K0B        Don Draper   \n",
              "3  NLA2139730118  Jupiter Shipping      M05   MUS04-P0A     Optimus Prime   \n",
              "4  NLA2139746462  Jupiter Shipping      M05   RNF08-K0J    Hercule Poirot   \n",
              "\n",
              "      MasterCity MasterPostalCode          LatestEventStatus  \\\n",
              "0        GRIMSBY          L3M 0B9  Assigned to Delivery Load   \n",
              "1     HAWKESBURY          K6A 2R2        Returning to Seller   \n",
              "2  VANKLEEK HILL          K0B 1R0  Assigned to Delivery Load   \n",
              "3    SOUTH RIVER          P0A 1X0  Assigned to Delivery Load   \n",
              "4  PALMER RAPIDS          K0J 2E0  Assigned to Delivery Load   \n",
              "\n",
              "   SignatureRequired  Weight(Lbs)  Length(ft)  Width(ft)  Height(ft)  \\\n",
              "0              False     0.374785         0.0        0.0         1.0   \n",
              "1              False          NaN         NaN        NaN         NaN   \n",
              "2              False          NaN         NaN        NaN         NaN   \n",
              "3              False     3.439211         1.0        1.0         1.0   \n",
              "4              False          NaN         NaN        NaN         NaN   \n",
              "\n",
              "   Volume(ft) Head-Contractor        Director  \n",
              "0    0.084543    Mickey Mouse   Princess Leia  \n",
              "1         NaN      Bugs Bunny  Luke Skywalker  \n",
              "2         NaN      Bugs Bunny  Luke Skywalker  \n",
              "3    0.576350      James Bond  Luke Skywalker  \n",
              "4         NaN      Bugs Bunny  Luke Skywalker  "
            ],
            "text/html": [
              "\n",
              "  <div id=\"df-bee98858-e370-4e93-9a94-544ae82e56ed\">\n",
              "    <div class=\"colab-df-container\">\n",
              "      <div>\n",
              "<style scoped>\n",
              "    .dataframe tbody tr th:only-of-type {\n",
              "        vertical-align: middle;\n",
              "    }\n",
              "\n",
              "    .dataframe tbody tr th {\n",
              "        vertical-align: top;\n",
              "    }\n",
              "\n",
              "    .dataframe thead th {\n",
              "        text-align: right;\n",
              "    }\n",
              "</style>\n",
              "<table border=\"1\" class=\"dataframe\">\n",
              "  <thead>\n",
              "    <tr style=\"text-align: right;\">\n",
              "      <th></th>\n",
              "      <th>TrackingNum</th>\n",
              "      <th>Vendor Name</th>\n",
              "      <th>District</th>\n",
              "      <th>Route</th>\n",
              "      <th>AssignedCourier</th>\n",
              "      <th>MasterCity</th>\n",
              "      <th>MasterPostalCode</th>\n",
              "      <th>LatestEventStatus</th>\n",
              "      <th>SignatureRequired</th>\n",
              "      <th>Weight(Lbs)</th>\n",
              "      <th>Length(ft)</th>\n",
              "      <th>Width(ft)</th>\n",
              "      <th>Height(ft)</th>\n",
              "      <th>Volume(ft)</th>\n",
              "      <th>Head-Contractor</th>\n",
              "      <th>Director</th>\n",
              "    </tr>\n",
              "  </thead>\n",
              "  <tbody>\n",
              "    <tr>\n",
              "      <th>0</th>\n",
              "      <td>MKS6271215345</td>\n",
              "      <td>Venus Logistics</td>\n",
              "      <td>M08</td>\n",
              "      <td>NIA20-L3M</td>\n",
              "      <td>Katniss Everdeen</td>\n",
              "      <td>GRIMSBY</td>\n",
              "      <td>L3M 0B9</td>\n",
              "      <td>Assigned to Delivery Load</td>\n",
              "      <td>False</td>\n",
              "      <td>0.374785</td>\n",
              "      <td>0.0</td>\n",
              "      <td>0.0</td>\n",
              "      <td>1.0</td>\n",
              "      <td>0.084543</td>\n",
              "      <td>Mickey Mouse</td>\n",
              "      <td>Princess Leia</td>\n",
              "    </tr>\n",
              "    <tr>\n",
              "      <th>1</th>\n",
              "      <td>NLA2139524342</td>\n",
              "      <td>Jupiter Shipping</td>\n",
              "      <td>M05</td>\n",
              "      <td>COR171-K6A</td>\n",
              "      <td>Don Draper</td>\n",
              "      <td>HAWKESBURY</td>\n",
              "      <td>K6A 2R2</td>\n",
              "      <td>Returning to Seller</td>\n",
              "      <td>False</td>\n",
              "      <td>NaN</td>\n",
              "      <td>NaN</td>\n",
              "      <td>NaN</td>\n",
              "      <td>NaN</td>\n",
              "      <td>NaN</td>\n",
              "      <td>Bugs Bunny</td>\n",
              "      <td>Luke Skywalker</td>\n",
              "    </tr>\n",
              "    <tr>\n",
              "      <th>2</th>\n",
              "      <td>NLA2139451369</td>\n",
              "      <td>Jupiter Shipping</td>\n",
              "      <td>M05</td>\n",
              "      <td>COR171-K0B</td>\n",
              "      <td>Don Draper</td>\n",
              "      <td>VANKLEEK HILL</td>\n",
              "      <td>K0B 1R0</td>\n",
              "      <td>Assigned to Delivery Load</td>\n",
              "      <td>False</td>\n",
              "      <td>NaN</td>\n",
              "      <td>NaN</td>\n",
              "      <td>NaN</td>\n",
              "      <td>NaN</td>\n",
              "      <td>NaN</td>\n",
              "      <td>Bugs Bunny</td>\n",
              "      <td>Luke Skywalker</td>\n",
              "    </tr>\n",
              "    <tr>\n",
              "      <th>3</th>\n",
              "      <td>NLA2139730118</td>\n",
              "      <td>Jupiter Shipping</td>\n",
              "      <td>M05</td>\n",
              "      <td>MUS04-P0A</td>\n",
              "      <td>Optimus Prime</td>\n",
              "      <td>SOUTH RIVER</td>\n",
              "      <td>P0A 1X0</td>\n",
              "      <td>Assigned to Delivery Load</td>\n",
              "      <td>False</td>\n",
              "      <td>3.439211</td>\n",
              "      <td>1.0</td>\n",
              "      <td>1.0</td>\n",
              "      <td>1.0</td>\n",
              "      <td>0.576350</td>\n",
              "      <td>James Bond</td>\n",
              "      <td>Luke Skywalker</td>\n",
              "    </tr>\n",
              "    <tr>\n",
              "      <th>4</th>\n",
              "      <td>NLA2139746462</td>\n",
              "      <td>Jupiter Shipping</td>\n",
              "      <td>M05</td>\n",
              "      <td>RNF08-K0J</td>\n",
              "      <td>Hercule Poirot</td>\n",
              "      <td>PALMER RAPIDS</td>\n",
              "      <td>K0J 2E0</td>\n",
              "      <td>Assigned to Delivery Load</td>\n",
              "      <td>False</td>\n",
              "      <td>NaN</td>\n",
              "      <td>NaN</td>\n",
              "      <td>NaN</td>\n",
              "      <td>NaN</td>\n",
              "      <td>NaN</td>\n",
              "      <td>Bugs Bunny</td>\n",
              "      <td>Luke Skywalker</td>\n",
              "    </tr>\n",
              "  </tbody>\n",
              "</table>\n",
              "</div>\n",
              "      <button class=\"colab-df-convert\" onclick=\"convertToInteractive('df-bee98858-e370-4e93-9a94-544ae82e56ed')\"\n",
              "              title=\"Convert this dataframe to an interactive table.\"\n",
              "              style=\"display:none;\">\n",
              "        \n",
              "  <svg xmlns=\"http://www.w3.org/2000/svg\" height=\"24px\"viewBox=\"0 0 24 24\"\n",
              "       width=\"24px\">\n",
              "    <path d=\"M0 0h24v24H0V0z\" fill=\"none\"/>\n",
              "    <path d=\"M18.56 5.44l.94 2.06.94-2.06 2.06-.94-2.06-.94-.94-2.06-.94 2.06-2.06.94zm-11 1L8.5 8.5l.94-2.06 2.06-.94-2.06-.94L8.5 2.5l-.94 2.06-2.06.94zm10 10l.94 2.06.94-2.06 2.06-.94-2.06-.94-.94-2.06-.94 2.06-2.06.94z\"/><path d=\"M17.41 7.96l-1.37-1.37c-.4-.4-.92-.59-1.43-.59-.52 0-1.04.2-1.43.59L10.3 9.45l-7.72 7.72c-.78.78-.78 2.05 0 2.83L4 21.41c.39.39.9.59 1.41.59.51 0 1.02-.2 1.41-.59l7.78-7.78 2.81-2.81c.8-.78.8-2.07 0-2.86zM5.41 20L4 18.59l7.72-7.72 1.47 1.35L5.41 20z\"/>\n",
              "  </svg>\n",
              "      </button>\n",
              "      \n",
              "  <style>\n",
              "    .colab-df-container {\n",
              "      display:flex;\n",
              "      flex-wrap:wrap;\n",
              "      gap: 12px;\n",
              "    }\n",
              "\n",
              "    .colab-df-convert {\n",
              "      background-color: #E8F0FE;\n",
              "      border: none;\n",
              "      border-radius: 50%;\n",
              "      cursor: pointer;\n",
              "      display: none;\n",
              "      fill: #1967D2;\n",
              "      height: 32px;\n",
              "      padding: 0 0 0 0;\n",
              "      width: 32px;\n",
              "    }\n",
              "\n",
              "    .colab-df-convert:hover {\n",
              "      background-color: #E2EBFA;\n",
              "      box-shadow: 0px 1px 2px rgba(60, 64, 67, 0.3), 0px 1px 3px 1px rgba(60, 64, 67, 0.15);\n",
              "      fill: #174EA6;\n",
              "    }\n",
              "\n",
              "    [theme=dark] .colab-df-convert {\n",
              "      background-color: #3B4455;\n",
              "      fill: #D2E3FC;\n",
              "    }\n",
              "\n",
              "    [theme=dark] .colab-df-convert:hover {\n",
              "      background-color: #434B5C;\n",
              "      box-shadow: 0px 1px 3px 1px rgba(0, 0, 0, 0.15);\n",
              "      filter: drop-shadow(0px 1px 2px rgba(0, 0, 0, 0.3));\n",
              "      fill: #FFFFFF;\n",
              "    }\n",
              "  </style>\n",
              "\n",
              "      <script>\n",
              "        const buttonEl =\n",
              "          document.querySelector('#df-bee98858-e370-4e93-9a94-544ae82e56ed button.colab-df-convert');\n",
              "        buttonEl.style.display =\n",
              "          google.colab.kernel.accessAllowed ? 'block' : 'none';\n",
              "\n",
              "        async function convertToInteractive(key) {\n",
              "          const element = document.querySelector('#df-bee98858-e370-4e93-9a94-544ae82e56ed');\n",
              "          const dataTable =\n",
              "            await google.colab.kernel.invokeFunction('convertToInteractive',\n",
              "                                                     [key], {});\n",
              "          if (!dataTable) return;\n",
              "\n",
              "          const docLinkHtml = 'Like what you see? Visit the ' +\n",
              "            '<a target=\"_blank\" href=https://colab.research.google.com/notebooks/data_table.ipynb>data table notebook</a>'\n",
              "            + ' to learn more about interactive tables.';\n",
              "          element.innerHTML = '';\n",
              "          dataTable['output_type'] = 'display_data';\n",
              "          await google.colab.output.renderOutput(dataTable, element);\n",
              "          const docLink = document.createElement('div');\n",
              "          docLink.innerHTML = docLinkHtml;\n",
              "          element.appendChild(docLink);\n",
              "        }\n",
              "      </script>\n",
              "    </div>\n",
              "  </div>\n",
              "  "
            ]
          },
          "metadata": {},
          "execution_count": 5
        }
      ]
    },
    {
      "cell_type": "markdown",
      "source": [
        "## The data has been cleaned but we check for null values"
      ],
      "metadata": {
        "id": "TNRfgQ6Zo48y"
      }
    },
    {
      "cell_type": "code",
      "source": [
        "data.isna().sum()"
      ],
      "metadata": {
        "colab": {
          "base_uri": "https://localhost:8080/"
        },
        "id": "ERhNCu48ogpP",
        "outputId": "fba6f6f0-acfa-438d-cda9-42e1f2b50fb3"
      },
      "execution_count": 6,
      "outputs": [
        {
          "output_type": "execute_result",
          "data": {
            "text/plain": [
              "TrackingNum           0\n",
              "Vendor Name           0\n",
              "District              0\n",
              "Route                 0\n",
              "AssignedCourier       0\n",
              "MasterCity            0\n",
              "MasterPostalCode      0\n",
              "LatestEventStatus     0\n",
              "SignatureRequired     0\n",
              "Weight(Lbs)          25\n",
              "Length(ft)           25\n",
              "Width(ft)            25\n",
              "Height(ft)           25\n",
              "Volume(ft)           25\n",
              "Head-Contractor       0\n",
              "Director              0\n",
              "dtype: int64"
            ]
          },
          "metadata": {},
          "execution_count": 6
        }
      ]
    },
    {
      "cell_type": "markdown",
      "source": [
        "## Replace all null values with a default value of 1"
      ],
      "metadata": {
        "id": "NPk7qtRepJyq"
      }
    },
    {
      "cell_type": "code",
      "source": [
        "default_value = 1\n",
        "data['Weight(Lbs)'].replace(np.nan, default_value, inplace=True)\n",
        "data['Length(ft)'].replace(np.nan, default_value, inplace=True)\n",
        "data['Width(ft)'].replace(np.nan, default_value, inplace=True)\n",
        "data['Height(ft)'].replace(np.nan, default_value, inplace=True)\n",
        "data['Volume(ft)'].replace(np.nan, default_value, inplace=True)"
      ],
      "metadata": {
        "id": "6xwyFAVipGPq"
      },
      "execution_count": 7,
      "outputs": []
    },
    {
      "cell_type": "markdown",
      "source": [
        "## Run come exploratory analysis on the data"
      ],
      "metadata": {
        "id": "QRE8QuzDpWp8"
      }
    },
    {
      "cell_type": "code",
      "source": [
        "data.describe()"
      ],
      "metadata": {
        "colab": {
          "base_uri": "https://localhost:8080/",
          "height": 300
        },
        "id": "AMQJYsCipRxU",
        "outputId": "75144caf-1316-4c31-c5ff-cd199f31bdbf"
      },
      "execution_count": 8,
      "outputs": [
        {
          "output_type": "execute_result",
          "data": {
            "text/plain": [
              "       Weight(Lbs)   Length(ft)    Width(ft)   Height(ft)   Volume(ft)\n",
              "count  5893.000000  5893.000000  5893.000000  5893.000000  5893.000000\n",
              "mean      4.393259     0.647718     0.471407     0.210589     0.298061\n",
              "std       7.128985     0.703577     0.539422     0.440187     0.638242\n",
              "min       0.030000     0.000000     0.000000     0.000000     0.000035\n",
              "25%       0.730000     0.000000     0.000000     0.000000     0.006667\n",
              "50%       1.680000     1.000000     0.000000     0.000000     0.040107\n",
              "75%       4.390000     1.000000     1.000000     0.000000     0.271613\n",
              "max      70.547840     5.000000     3.000000     4.000000    15.266915"
            ],
            "text/html": [
              "\n",
              "  <div id=\"df-cd7e3399-3816-4d1d-b76a-9bfa09654d89\">\n",
              "    <div class=\"colab-df-container\">\n",
              "      <div>\n",
              "<style scoped>\n",
              "    .dataframe tbody tr th:only-of-type {\n",
              "        vertical-align: middle;\n",
              "    }\n",
              "\n",
              "    .dataframe tbody tr th {\n",
              "        vertical-align: top;\n",
              "    }\n",
              "\n",
              "    .dataframe thead th {\n",
              "        text-align: right;\n",
              "    }\n",
              "</style>\n",
              "<table border=\"1\" class=\"dataframe\">\n",
              "  <thead>\n",
              "    <tr style=\"text-align: right;\">\n",
              "      <th></th>\n",
              "      <th>Weight(Lbs)</th>\n",
              "      <th>Length(ft)</th>\n",
              "      <th>Width(ft)</th>\n",
              "      <th>Height(ft)</th>\n",
              "      <th>Volume(ft)</th>\n",
              "    </tr>\n",
              "  </thead>\n",
              "  <tbody>\n",
              "    <tr>\n",
              "      <th>count</th>\n",
              "      <td>5893.000000</td>\n",
              "      <td>5893.000000</td>\n",
              "      <td>5893.000000</td>\n",
              "      <td>5893.000000</td>\n",
              "      <td>5893.000000</td>\n",
              "    </tr>\n",
              "    <tr>\n",
              "      <th>mean</th>\n",
              "      <td>4.393259</td>\n",
              "      <td>0.647718</td>\n",
              "      <td>0.471407</td>\n",
              "      <td>0.210589</td>\n",
              "      <td>0.298061</td>\n",
              "    </tr>\n",
              "    <tr>\n",
              "      <th>std</th>\n",
              "      <td>7.128985</td>\n",
              "      <td>0.703577</td>\n",
              "      <td>0.539422</td>\n",
              "      <td>0.440187</td>\n",
              "      <td>0.638242</td>\n",
              "    </tr>\n",
              "    <tr>\n",
              "      <th>min</th>\n",
              "      <td>0.030000</td>\n",
              "      <td>0.000000</td>\n",
              "      <td>0.000000</td>\n",
              "      <td>0.000000</td>\n",
              "      <td>0.000035</td>\n",
              "    </tr>\n",
              "    <tr>\n",
              "      <th>25%</th>\n",
              "      <td>0.730000</td>\n",
              "      <td>0.000000</td>\n",
              "      <td>0.000000</td>\n",
              "      <td>0.000000</td>\n",
              "      <td>0.006667</td>\n",
              "    </tr>\n",
              "    <tr>\n",
              "      <th>50%</th>\n",
              "      <td>1.680000</td>\n",
              "      <td>1.000000</td>\n",
              "      <td>0.000000</td>\n",
              "      <td>0.000000</td>\n",
              "      <td>0.040107</td>\n",
              "    </tr>\n",
              "    <tr>\n",
              "      <th>75%</th>\n",
              "      <td>4.390000</td>\n",
              "      <td>1.000000</td>\n",
              "      <td>1.000000</td>\n",
              "      <td>0.000000</td>\n",
              "      <td>0.271613</td>\n",
              "    </tr>\n",
              "    <tr>\n",
              "      <th>max</th>\n",
              "      <td>70.547840</td>\n",
              "      <td>5.000000</td>\n",
              "      <td>3.000000</td>\n",
              "      <td>4.000000</td>\n",
              "      <td>15.266915</td>\n",
              "    </tr>\n",
              "  </tbody>\n",
              "</table>\n",
              "</div>\n",
              "      <button class=\"colab-df-convert\" onclick=\"convertToInteractive('df-cd7e3399-3816-4d1d-b76a-9bfa09654d89')\"\n",
              "              title=\"Convert this dataframe to an interactive table.\"\n",
              "              style=\"display:none;\">\n",
              "        \n",
              "  <svg xmlns=\"http://www.w3.org/2000/svg\" height=\"24px\"viewBox=\"0 0 24 24\"\n",
              "       width=\"24px\">\n",
              "    <path d=\"M0 0h24v24H0V0z\" fill=\"none\"/>\n",
              "    <path d=\"M18.56 5.44l.94 2.06.94-2.06 2.06-.94-2.06-.94-.94-2.06-.94 2.06-2.06.94zm-11 1L8.5 8.5l.94-2.06 2.06-.94-2.06-.94L8.5 2.5l-.94 2.06-2.06.94zm10 10l.94 2.06.94-2.06 2.06-.94-2.06-.94-.94-2.06-.94 2.06-2.06.94z\"/><path d=\"M17.41 7.96l-1.37-1.37c-.4-.4-.92-.59-1.43-.59-.52 0-1.04.2-1.43.59L10.3 9.45l-7.72 7.72c-.78.78-.78 2.05 0 2.83L4 21.41c.39.39.9.59 1.41.59.51 0 1.02-.2 1.41-.59l7.78-7.78 2.81-2.81c.8-.78.8-2.07 0-2.86zM5.41 20L4 18.59l7.72-7.72 1.47 1.35L5.41 20z\"/>\n",
              "  </svg>\n",
              "      </button>\n",
              "      \n",
              "  <style>\n",
              "    .colab-df-container {\n",
              "      display:flex;\n",
              "      flex-wrap:wrap;\n",
              "      gap: 12px;\n",
              "    }\n",
              "\n",
              "    .colab-df-convert {\n",
              "      background-color: #E8F0FE;\n",
              "      border: none;\n",
              "      border-radius: 50%;\n",
              "      cursor: pointer;\n",
              "      display: none;\n",
              "      fill: #1967D2;\n",
              "      height: 32px;\n",
              "      padding: 0 0 0 0;\n",
              "      width: 32px;\n",
              "    }\n",
              "\n",
              "    .colab-df-convert:hover {\n",
              "      background-color: #E2EBFA;\n",
              "      box-shadow: 0px 1px 2px rgba(60, 64, 67, 0.3), 0px 1px 3px 1px rgba(60, 64, 67, 0.15);\n",
              "      fill: #174EA6;\n",
              "    }\n",
              "\n",
              "    [theme=dark] .colab-df-convert {\n",
              "      background-color: #3B4455;\n",
              "      fill: #D2E3FC;\n",
              "    }\n",
              "\n",
              "    [theme=dark] .colab-df-convert:hover {\n",
              "      background-color: #434B5C;\n",
              "      box-shadow: 0px 1px 3px 1px rgba(0, 0, 0, 0.15);\n",
              "      filter: drop-shadow(0px 1px 2px rgba(0, 0, 0, 0.3));\n",
              "      fill: #FFFFFF;\n",
              "    }\n",
              "  </style>\n",
              "\n",
              "      <script>\n",
              "        const buttonEl =\n",
              "          document.querySelector('#df-cd7e3399-3816-4d1d-b76a-9bfa09654d89 button.colab-df-convert');\n",
              "        buttonEl.style.display =\n",
              "          google.colab.kernel.accessAllowed ? 'block' : 'none';\n",
              "\n",
              "        async function convertToInteractive(key) {\n",
              "          const element = document.querySelector('#df-cd7e3399-3816-4d1d-b76a-9bfa09654d89');\n",
              "          const dataTable =\n",
              "            await google.colab.kernel.invokeFunction('convertToInteractive',\n",
              "                                                     [key], {});\n",
              "          if (!dataTable) return;\n",
              "\n",
              "          const docLinkHtml = 'Like what you see? Visit the ' +\n",
              "            '<a target=\"_blank\" href=https://colab.research.google.com/notebooks/data_table.ipynb>data table notebook</a>'\n",
              "            + ' to learn more about interactive tables.';\n",
              "          element.innerHTML = '';\n",
              "          dataTable['output_type'] = 'display_data';\n",
              "          await google.colab.output.renderOutput(dataTable, element);\n",
              "          const docLink = document.createElement('div');\n",
              "          docLink.innerHTML = docLinkHtml;\n",
              "          element.appendChild(docLink);\n",
              "        }\n",
              "      </script>\n",
              "    </div>\n",
              "  </div>\n",
              "  "
            ]
          },
          "metadata": {},
          "execution_count": 8
        }
      ]
    },
    {
      "cell_type": "code",
      "source": [
        "data.columns"
      ],
      "metadata": {
        "colab": {
          "base_uri": "https://localhost:8080/"
        },
        "id": "qlKMgtDOpfiS",
        "outputId": "8e5c0e0e-3cd1-4eea-a56d-8813d1892467"
      },
      "execution_count": 9,
      "outputs": [
        {
          "output_type": "execute_result",
          "data": {
            "text/plain": [
              "Index(['TrackingNum', 'Vendor Name', 'District', 'Route', 'AssignedCourier',\n",
              "       'MasterCity', 'MasterPostalCode', 'LatestEventStatus',\n",
              "       'SignatureRequired', 'Weight(Lbs)', 'Length(ft)', 'Width(ft)',\n",
              "       'Height(ft)', 'Volume(ft)', 'Head-Contractor', 'Director'],\n",
              "      dtype='object')"
            ]
          },
          "metadata": {},
          "execution_count": 9
        }
      ]
    },
    {
      "cell_type": "markdown",
      "source": [
        "# Visualization of Important Metrics in the Dataset"
      ],
      "metadata": {
        "id": "y89iDtacpo4c"
      }
    },
    {
      "cell_type": "code",
      "source": [
        "data['Vendor Name'].value_counts()"
      ],
      "metadata": {
        "colab": {
          "base_uri": "https://localhost:8080/"
        },
        "id": "-nPYmGx5pimh",
        "outputId": "ebf581ca-33ac-4a9e-e78c-e67f2f47acc7"
      },
      "execution_count": 10,
      "outputs": [
        {
          "output_type": "execute_result",
          "data": {
            "text/plain": [
              "Mercury Logistics    3332\n",
              "Jupiter Shipping     1887\n",
              "Mars Logistics        425\n",
              "Venus Logistics       184\n",
              "Saturn Shipping        65\n",
              "Name: Vendor Name, dtype: int64"
            ]
          },
          "metadata": {},
          "execution_count": 10
        }
      ]
    },
    {
      "cell_type": "code",
      "source": [
        "data['Vendor Name'].value_counts().plot(kind = 'barh', title = 'Parcel Distribution by Vendor', color = ['brown', 'blue', 'green', 'orange', 'purple' ])"
      ],
      "metadata": {
        "colab": {
          "base_uri": "https://localhost:8080/",
          "height": 469
        },
        "id": "2MIFq1OEp5pH",
        "outputId": "a85160bc-18d1-4e61-c6f7-d0c72ba519ba"
      },
      "execution_count": 11,
      "outputs": [
        {
          "output_type": "execute_result",
          "data": {
            "text/plain": [
              "<Axes: title={'center': 'Parcel Distribution by Vendor'}>"
            ]
          },
          "metadata": {},
          "execution_count": 11
        },
        {
          "output_type": "display_data",
          "data": {
            "text/plain": [
              "<Figure size 640x480 with 1 Axes>"
            ],
            "image/png": "[encoded data removed]"
          },
          "metadata": {}
        }
      ]
    },
    {
      "cell_type": "markdown",
      "source": [
        "The chart above shows that Mercury Logistics is the firm's biggest vendor supplying 3332 of the parcels captured in the dataset."
      ],
      "metadata": {
        "id": "wED2roA5q6lN"
      }
    },
    {
      "cell_type": "code",
      "source": [
        "data['District'].value_counts()"
      ],
      "metadata": {
        "colab": {
          "base_uri": "https://localhost:8080/"
        },
        "id": "1pioB5dap_G9",
        "outputId": "eda4d43c-4894-45c2-9f30-2f7fae9327ce"
      },
      "execution_count": 12,
      "outputs": [
        {
          "output_type": "execute_result",
          "data": {
            "text/plain": [
              "M05    2263\n",
              "M01    1004\n",
              "M07     691\n",
              "M08     679\n",
              "M02     447\n",
              "M03     446\n",
              "M04     243\n",
              "M09      66\n",
              "M10      54\n",
              "Name: District, dtype: int64"
            ]
          },
          "metadata": {},
          "execution_count": 12
        }
      ]
    },
    {
      "cell_type": "code",
      "source": [
        "data['District'].value_counts().plot(kind = 'pie', title = 'Parcel Distribution by District')"
      ],
      "metadata": {
        "colab": {
          "base_uri": "https://localhost:8080/",
          "height": 445
        },
        "id": "7Z-MOEl9rK4l",
        "outputId": "589f8552-70f7-40d4-f12d-a27ac32df747"
      },
      "execution_count": 13,
      "outputs": [
        {
          "output_type": "execute_result",
          "data": {
            "text/plain": [
              "<Axes: title={'center': 'Parcel Distribution by District'}, ylabel='District'>"
            ]
          },
          "metadata": {},
          "execution_count": 13
        },
        {
          "output_type": "display_data",
          "data": {
            "text/plain": [
              "<Figure size 640x480 with 1 Axes>"
            ],
            "image/png": "[encoded data removed]"
          },
          "metadata": {}
        }
      ]
    },
    {
      "cell_type": "markdown",
      "source": [
        "Majority of the parcels in this dataset are to be delivered to 4 districts: M01, M05, M07, and M08. Districts M09 and M10 have the least volume of parcels."
      ],
      "metadata": {
        "id": "xV0vaPQ_rTcU"
      }
    },
    {
      "cell_type": "code",
      "source": [
        "data['Route'].value_counts().head(20)"
      ],
      "metadata": {
        "colab": {
          "base_uri": "https://localhost:8080/"
        },
        "id": "3oWux38BrO4F",
        "outputId": "17d06ee7-5e39-4743-aadb-a6073b2e6296"
      },
      "execution_count": 15,
      "outputs": [
        {
          "output_type": "execute_result",
          "data": {
            "text/plain": [
              "COR171-K6A    157\n",
              "MUS04-P0A     151\n",
              "COR161-K0B    130\n",
              "MUS03-P0A     111\n",
              "RNF02-K0J     107\n",
              "COR171-K0B     96\n",
              "RNF01-K0J      95\n",
              "SMT111-K7A     95\n",
              "MUS40-P1H      85\n",
              "SMT122-K7H     85\n",
              "MIL01-L9T      81\n",
              "SIM951-L4N     81\n",
              "MUS10-P1L      81\n",
              "RNF07-K0J      81\n",
              "MUS60-P2A      75\n",
              "MUS02-P0A      73\n",
              "RNF50-K7S      69\n",
              "RNF40-K7V      68\n",
              "DUR916-L1C     64\n",
              "NEW11-L4P      63\n",
              "Name: Route, dtype: int64"
            ]
          },
          "metadata": {},
          "execution_count": 15
        }
      ]
    },
    {
      "cell_type": "code",
      "source": [
        "data['Route'].value_counts().head(20).plot(kind = 'bar', title = 'Top 20 Routes by Parcel Volume',color = 'orange')"
      ],
      "metadata": {
        "colab": {
          "base_uri": "https://localhost:8080/",
          "height": 544
        },
        "id": "dJyZUIZmr25a",
        "outputId": "041e6220-7404-4aca-8b9a-6e6f852aa68e"
      },
      "execution_count": 16,
      "outputs": [
        {
          "output_type": "execute_result",
          "data": {
            "text/plain": [
              "<Axes: title={'center': 'Top 20 Routes by Parcel Volume'}>"
            ]
          },
          "metadata": {},
          "execution_count": 16
        },
        {
          "output_type": "display_data",
          "data": {
            "text/plain": [
              "<Figure size 640x480 with 1 Axes>"
            ],
            "image/png": "[encoded data removed]"
          },
          "metadata": {}
        }
      ]
    },
    {
      "cell_type": "markdown",
      "source": [
        "The number of routes displayed has been limited to just the top 20 because including all the routes would have made the visualizations difficult to understand."
      ],
      "metadata": {
        "id": "HUdnPtXvr_va"
      }
    },
    {
      "cell_type": "code",
      "source": [],
      "metadata": {
        "id": "Upj-ONLmr9Kd"
      },
      "execution_count": null,
      "outputs": []
    }
  ]
}